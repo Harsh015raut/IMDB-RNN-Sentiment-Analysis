{
 "cells": [
  {
   "cell_type": "code",
   "execution_count": 1,
   "metadata": {},
   "outputs": [],
   "source": [
    "# Step 1: Import Libraries and Load the Model\n",
    "import numpy as np\n",
    "import tensorflow as tf\n",
    "from tensorflow.keras.datasets import imdb\n",
    "from tensorflow.keras.preprocessing import sequence\n",
    "from tensorflow.keras.models import load_model"
   ]
  },
  {
   "cell_type": "code",
   "execution_count": 2,
   "metadata": {},
   "outputs": [],
   "source": [
    "\n",
    "# Load the IMDB dataset word index\n",
    "word_index = imdb.get_word_index()\n",
    "reverse_word_index = {value: key for key, value in word_index.items()}"
   ]
  },
  {
   "cell_type": "code",
   "execution_count": 3,
   "metadata": {},
   "outputs": [
    {
     "name": "stderr",
     "output_type": "stream",
     "text": [
      "WARNING:absl:Compiled the loaded model, but the compiled metrics have yet to be built. `model.compile_metrics` will be empty until you train or evaluate the model.\n"
     ]
    },
    {
     "data": {
      "text/html": [
       "<pre style=\"white-space:pre;overflow-x:auto;line-height:normal;font-family:Menlo,'DejaVu Sans Mono',consolas,'Courier New',monospace\"><span style=\"font-weight: bold\">Model: \"sequential\"</span>\n",
       "</pre>\n"
      ],
      "text/plain": [
       "\u001b[1mModel: \"sequential\"\u001b[0m\n"
      ]
     },
     "metadata": {},
     "output_type": "display_data"
    },
    {
     "data": {
      "text/html": [
       "<pre style=\"white-space:pre;overflow-x:auto;line-height:normal;font-family:Menlo,'DejaVu Sans Mono',consolas,'Courier New',monospace\">┏━━━━━━━━━━━━━━━━━━━━━━━━━━━━━━━━━┳━━━━━━━━━━━━━━━━━━━━━━━━┳━━━━━━━━━━━━━━━┓\n",
       "┃<span style=\"font-weight: bold\"> Layer (type)                    </span>┃<span style=\"font-weight: bold\"> Output Shape           </span>┃<span style=\"font-weight: bold\">       Param # </span>┃\n",
       "┡━━━━━━━━━━━━━━━━━━━━━━━━━━━━━━━━━╇━━━━━━━━━━━━━━━━━━━━━━━━╇━━━━━━━━━━━━━━━┩\n",
       "│ embedding (<span style=\"color: #0087ff; text-decoration-color: #0087ff\">Embedding</span>)           │ (<span style=\"color: #00d7ff; text-decoration-color: #00d7ff\">None</span>, <span style=\"color: #00af00; text-decoration-color: #00af00\">500</span>, <span style=\"color: #00af00; text-decoration-color: #00af00\">128</span>)       │     <span style=\"color: #00af00; text-decoration-color: #00af00\">1,280,000</span> │\n",
       "├─────────────────────────────────┼────────────────────────┼───────────────┤\n",
       "│ simple_rnn (<span style=\"color: #0087ff; text-decoration-color: #0087ff\">SimpleRNN</span>)          │ (<span style=\"color: #00d7ff; text-decoration-color: #00d7ff\">None</span>, <span style=\"color: #00af00; text-decoration-color: #00af00\">128</span>)            │        <span style=\"color: #00af00; text-decoration-color: #00af00\">32,896</span> │\n",
       "├─────────────────────────────────┼────────────────────────┼───────────────┤\n",
       "│ dense (<span style=\"color: #0087ff; text-decoration-color: #0087ff\">Dense</span>)                   │ (<span style=\"color: #00d7ff; text-decoration-color: #00d7ff\">None</span>, <span style=\"color: #00af00; text-decoration-color: #00af00\">1</span>)              │           <span style=\"color: #00af00; text-decoration-color: #00af00\">129</span> │\n",
       "└─────────────────────────────────┴────────────────────────┴───────────────┘\n",
       "</pre>\n"
      ],
      "text/plain": [
       "┏━━━━━━━━━━━━━━━━━━━━━━━━━━━━━━━━━┳━━━━━━━━━━━━━━━━━━━━━━━━┳━━━━━━━━━━━━━━━┓\n",
       "┃\u001b[1m \u001b[0m\u001b[1mLayer (type)                   \u001b[0m\u001b[1m \u001b[0m┃\u001b[1m \u001b[0m\u001b[1mOutput Shape          \u001b[0m\u001b[1m \u001b[0m┃\u001b[1m \u001b[0m\u001b[1m      Param #\u001b[0m\u001b[1m \u001b[0m┃\n",
       "┡━━━━━━━━━━━━━━━━━━━━━━━━━━━━━━━━━╇━━━━━━━━━━━━━━━━━━━━━━━━╇━━━━━━━━━━━━━━━┩\n",
       "│ embedding (\u001b[38;5;33mEmbedding\u001b[0m)           │ (\u001b[38;5;45mNone\u001b[0m, \u001b[38;5;34m500\u001b[0m, \u001b[38;5;34m128\u001b[0m)       │     \u001b[38;5;34m1,280,000\u001b[0m │\n",
       "├─────────────────────────────────┼────────────────────────┼───────────────┤\n",
       "│ simple_rnn (\u001b[38;5;33mSimpleRNN\u001b[0m)          │ (\u001b[38;5;45mNone\u001b[0m, \u001b[38;5;34m128\u001b[0m)            │        \u001b[38;5;34m32,896\u001b[0m │\n",
       "├─────────────────────────────────┼────────────────────────┼───────────────┤\n",
       "│ dense (\u001b[38;5;33mDense\u001b[0m)                   │ (\u001b[38;5;45mNone\u001b[0m, \u001b[38;5;34m1\u001b[0m)              │           \u001b[38;5;34m129\u001b[0m │\n",
       "└─────────────────────────────────┴────────────────────────┴───────────────┘\n"
      ]
     },
     "metadata": {},
     "output_type": "display_data"
    },
    {
     "data": {
      "text/html": [
       "<pre style=\"white-space:pre;overflow-x:auto;line-height:normal;font-family:Menlo,'DejaVu Sans Mono',consolas,'Courier New',monospace\"><span style=\"font-weight: bold\"> Total params: </span><span style=\"color: #00af00; text-decoration-color: #00af00\">1,313,027</span> (5.01 MB)\n",
       "</pre>\n"
      ],
      "text/plain": [
       "\u001b[1m Total params: \u001b[0m\u001b[38;5;34m1,313,027\u001b[0m (5.01 MB)\n"
      ]
     },
     "metadata": {},
     "output_type": "display_data"
    },
    {
     "data": {
      "text/html": [
       "<pre style=\"white-space:pre;overflow-x:auto;line-height:normal;font-family:Menlo,'DejaVu Sans Mono',consolas,'Courier New',monospace\"><span style=\"font-weight: bold\"> Trainable params: </span><span style=\"color: #00af00; text-decoration-color: #00af00\">1,313,025</span> (5.01 MB)\n",
       "</pre>\n"
      ],
      "text/plain": [
       "\u001b[1m Trainable params: \u001b[0m\u001b[38;5;34m1,313,025\u001b[0m (5.01 MB)\n"
      ]
     },
     "metadata": {},
     "output_type": "display_data"
    },
    {
     "data": {
      "text/html": [
       "<pre style=\"white-space:pre;overflow-x:auto;line-height:normal;font-family:Menlo,'DejaVu Sans Mono',consolas,'Courier New',monospace\"><span style=\"font-weight: bold\"> Non-trainable params: </span><span style=\"color: #00af00; text-decoration-color: #00af00\">0</span> (0.00 B)\n",
       "</pre>\n"
      ],
      "text/plain": [
       "\u001b[1m Non-trainable params: \u001b[0m\u001b[38;5;34m0\u001b[0m (0.00 B)\n"
      ]
     },
     "metadata": {},
     "output_type": "display_data"
    },
    {
     "data": {
      "text/html": [
       "<pre style=\"white-space:pre;overflow-x:auto;line-height:normal;font-family:Menlo,'DejaVu Sans Mono',consolas,'Courier New',monospace\"><span style=\"font-weight: bold\"> Optimizer params: </span><span style=\"color: #00af00; text-decoration-color: #00af00\">2</span> (12.00 B)\n",
       "</pre>\n"
      ],
      "text/plain": [
       "\u001b[1m Optimizer params: \u001b[0m\u001b[38;5;34m2\u001b[0m (12.00 B)\n"
      ]
     },
     "metadata": {},
     "output_type": "display_data"
    }
   ],
   "source": [
    "model = load_model('simple_rnn_imdb.h5')\n",
    "model.summary()"
   ]
  },
  {
   "cell_type": "code",
   "execution_count": 4,
   "metadata": {},
   "outputs": [
    {
     "data": {
      "text/plain": [
       "[array([[ 6.21065557e-01, -5.26159406e-01, -6.01035357e-01, ...,\n",
       "         -5.14856160e-01,  5.71223259e-01,  5.69092989e-01],\n",
       "        [ 3.81185375e-02, -3.11672203e-02, -3.85614932e-02, ...,\n",
       "         -2.73261536e-02,  8.71354118e-02,  5.77557907e-02],\n",
       "        [ 1.63816050e-01, -1.43528849e-01, -8.86101872e-02, ...,\n",
       "         -9.33184475e-02, -1.90395489e-02,  1.35011319e-02],\n",
       "        ...,\n",
       "        [-7.25909472e-02, -1.88748091e-01,  2.50370931e-02, ...,\n",
       "          1.08278535e-01, -7.82393739e-02,  4.52548452e-02],\n",
       "        [-1.43481493e-01,  5.35777621e-02,  1.75875559e-01, ...,\n",
       "          1.57387495e-01, -1.04066201e-01, -1.44218147e-01],\n",
       "        [-1.00032315e-02, -1.59206043e-04, -7.10866526e-02, ...,\n",
       "         -3.54284979e-03,  1.85974669e-02, -6.21045604e-02]], dtype=float32),\n",
       " array([[-0.09187762, -0.0309094 ,  0.09228423, ...,  0.06714047,\n",
       "         -0.11561533,  0.06878148],\n",
       "        [-0.08756899, -0.07046502, -0.06636179, ...,  0.01178694,\n",
       "         -0.06581306,  0.14260682],\n",
       "        [ 0.12810707,  0.09918402, -0.09809349, ..., -0.14042093,\n",
       "          0.09184479,  0.08953119],\n",
       "        ...,\n",
       "        [ 0.14127941,  0.12979582, -0.03277763, ..., -0.0191741 ,\n",
       "          0.06902516, -0.10624654],\n",
       "        [-0.00260227, -0.09793496,  0.095293  , ...,  0.00517506,\n",
       "          0.09536975, -0.02309749],\n",
       "        [-0.0079056 , -0.09855371, -0.02539939, ..., -0.02604627,\n",
       "          0.07513919,  0.05869902]], dtype=float32),\n",
       " array([[-0.13455108, -0.10656779, -0.13152917, ...,  0.01156182,\n",
       "         -0.05357366, -0.14631401],\n",
       "        [ 0.05217299, -0.03093122, -0.07679361, ...,  0.09385877,\n",
       "         -0.11190856,  0.01299449],\n",
       "        [ 0.04814737, -0.05923685, -0.10206812, ...,  0.06606435,\n",
       "         -0.19424894,  0.00123755],\n",
       "        ...,\n",
       "        [ 0.15933686, -0.09230065, -0.1029456 , ...,  0.09327145,\n",
       "          0.16235025,  0.07672224],\n",
       "        [-0.19294274,  0.02156368,  0.059244  , ..., -0.06229623,\n",
       "         -0.04871755, -0.05075779],\n",
       "        [ 0.12871212, -0.05221387, -0.01964848, ...,  0.05399803,\n",
       "         -0.1650834 , -0.0345408 ]], dtype=float32),\n",
       " array([-1.03284549e-02, -1.30188074e-02, -2.68828552e-02, -1.37476474e-02,\n",
       "        -2.23264806e-02, -2.69546621e-02, -3.46668134e-03, -2.84591764e-02,\n",
       "        -3.54660004e-02, -3.59166004e-02,  2.62362473e-02,  1.62360258e-02,\n",
       "         2.90238182e-03,  4.50396817e-03,  2.56492663e-02,  2.27974374e-02,\n",
       "        -5.33229532e-03, -2.93498002e-02,  2.83131283e-02, -1.95620838e-03,\n",
       "         1.56711508e-02,  3.24304365e-02,  3.63300135e-03, -1.74559727e-02,\n",
       "        -1.51812425e-02, -3.65034677e-02, -2.17406098e-02,  1.40817072e-02,\n",
       "        -2.06570141e-02, -5.48186665e-03, -5.41333202e-03, -1.15910387e-02,\n",
       "        -2.63390038e-03,  5.14857993e-02, -3.33265178e-02, -3.38719897e-02,\n",
       "        -3.39535140e-02, -2.23256648e-02, -1.98596176e-02, -3.67674604e-02,\n",
       "        -2.37241536e-02, -2.34418921e-02, -4.74733626e-03,  2.56364252e-02,\n",
       "        -6.99398879e-05, -2.33528148e-02, -1.00342026e-02, -4.05289792e-02,\n",
       "        -3.91902812e-02, -1.38739822e-02, -3.01541649e-02,  1.66128315e-02,\n",
       "        -1.16549917e-02, -3.35154496e-02, -1.24390172e-02,  2.46756505e-02,\n",
       "         3.94454924e-03, -1.92487352e-02,  2.33394355e-02,  1.10612754e-02,\n",
       "        -2.33225729e-02, -2.29455233e-02, -1.44309439e-02, -3.13804485e-02,\n",
       "        -8.60158261e-03, -3.01335827e-02,  1.83709376e-02, -4.23971526e-02,\n",
       "        -3.27381566e-02,  2.92196940e-03,  2.21243128e-03, -2.25094669e-02,\n",
       "         8.11766949e-05, -2.18714513e-02, -2.31372695e-02,  3.03777307e-02,\n",
       "         2.77631421e-04, -1.22909946e-02,  7.78861903e-03, -2.93297172e-02,\n",
       "        -3.41973305e-02, -4.30345945e-02,  6.57806592e-03, -2.77065895e-02,\n",
       "         5.42797474e-03, -3.32870036e-02,  2.06788778e-02,  1.13082826e-02,\n",
       "         9.03220661e-03,  7.83330761e-03, -3.94124240e-02, -2.45309323e-02,\n",
       "        -6.54708920e-03,  1.91867761e-02, -1.01552634e-02, -5.67636685e-03,\n",
       "         5.69732860e-03,  5.57498727e-03, -1.42205274e-02,  9.55116842e-03,\n",
       "         2.60661449e-02, -3.72565240e-02,  1.94431581e-02, -2.01513004e-02,\n",
       "         3.78691964e-03, -3.37957330e-02, -1.04662543e-02, -1.01567758e-02,\n",
       "        -7.49136275e-03, -3.45246610e-03, -2.51271296e-02, -3.19011323e-02,\n",
       "         4.43417542e-02, -5.11994294e-04,  2.41869409e-02, -9.17349663e-03,\n",
       "        -4.13770303e-02,  2.84412480e-03, -3.99877429e-02,  1.72862187e-02,\n",
       "        -3.65962572e-02,  3.42000485e-03, -6.68710982e-03,  1.33621285e-03,\n",
       "        -2.21814476e-02, -6.22695778e-03, -2.10325513e-02, -2.56367326e-02],\n",
       "       dtype=float32),\n",
       " array([[ 4.61104102e-02],\n",
       "        [-7.83666149e-02],\n",
       "        [ 1.17903627e-01],\n",
       "        [-3.82362455e-02],\n",
       "        [ 9.90407914e-02],\n",
       "        [-3.12758572e-02],\n",
       "        [ 1.76479444e-01],\n",
       "        [-1.70142189e-01],\n",
       "        [-1.80476397e-01],\n",
       "        [-4.89004850e-01],\n",
       "        [ 3.77530493e-02],\n",
       "        [-3.69229652e-02],\n",
       "        [ 1.76947549e-01],\n",
       "        [-1.75493389e-01],\n",
       "        [-7.43556842e-02],\n",
       "        [ 2.11023465e-01],\n",
       "        [ 6.33399421e-03],\n",
       "        [-1.82044387e-01],\n",
       "        [-6.07970580e-02],\n",
       "        [ 2.27051795e-01],\n",
       "        [ 1.68099374e-01],\n",
       "        [ 9.86925513e-02],\n",
       "        [ 1.94340833e-02],\n",
       "        [ 3.63366812e-01],\n",
       "        [ 5.25969326e-01],\n",
       "        [ 6.93437532e-02],\n",
       "        [ 2.10423246e-01],\n",
       "        [-1.55253395e-01],\n",
       "        [ 2.20977470e-01],\n",
       "        [-5.73135093e-02],\n",
       "        [ 4.03043516e-02],\n",
       "        [ 2.05204830e-01],\n",
       "        [ 1.08384499e-02],\n",
       "        [ 1.93732336e-01],\n",
       "        [-1.99589565e-01],\n",
       "        [-8.43182504e-02],\n",
       "        [ 9.71563935e-01],\n",
       "        [ 7.31842816e-01],\n",
       "        [-1.76165253e-01],\n",
       "        [-2.75108606e-01],\n",
       "        [ 8.90944302e-02],\n",
       "        [-5.93659095e-03],\n",
       "        [ 9.02241282e-03],\n",
       "        [-7.98735768e-02],\n",
       "        [ 2.80712545e-01],\n",
       "        [ 1.71814293e-01],\n",
       "        [-5.10217398e-02],\n",
       "        [ 1.30249321e-01],\n",
       "        [ 1.47891015e-01],\n",
       "        [-1.17813364e-01],\n",
       "        [ 4.39173952e-02],\n",
       "        [ 2.82413870e-01],\n",
       "        [-7.06483647e-02],\n",
       "        [-4.46173409e-03],\n",
       "        [ 1.58383504e-01],\n",
       "        [-4.02097762e-01],\n",
       "        [-9.14585143e-02],\n",
       "        [ 2.11042911e-01],\n",
       "        [-1.16119236e-01],\n",
       "        [ 1.01327084e-01],\n",
       "        [-6.30677640e-02],\n",
       "        [-8.00226554e-02],\n",
       "        [-1.35859251e-01],\n",
       "        [-1.87232897e-01],\n",
       "        [-6.01841137e-02],\n",
       "        [ 3.63346040e-02],\n",
       "        [-1.61062986e-01],\n",
       "        [ 1.81294046e-04],\n",
       "        [ 1.33556306e-01],\n",
       "        [ 1.43384591e-01],\n",
       "        [-1.18517682e-01],\n",
       "        [-1.69700921e-01],\n",
       "        [-4.41924222e-02],\n",
       "        [-1.34872496e-01],\n",
       "        [-1.81316033e-01],\n",
       "        [-1.36209326e-02],\n",
       "        [ 8.80979002e-02],\n",
       "        [-1.63847774e-01],\n",
       "        [-1.06784925e-01],\n",
       "        [ 3.30533385e-02],\n",
       "        [ 9.83060300e-02],\n",
       "        [-2.47527555e-01],\n",
       "        [ 8.23632404e-02],\n",
       "        [-1.03660844e-01],\n",
       "        [ 1.96092620e-01],\n",
       "        [-1.07895173e-01],\n",
       "        [ 1.61419064e-01],\n",
       "        [ 1.06786927e-02],\n",
       "        [ 4.37809564e-02],\n",
       "        [ 8.77548680e-02],\n",
       "        [ 1.86929125e-02],\n",
       "        [ 1.75152928e-01],\n",
       "        [ 1.04185857e-01],\n",
       "        [ 2.93248259e-02],\n",
       "        [ 1.42447487e-01],\n",
       "        [-3.54299873e-01],\n",
       "        [ 1.96991742e-01],\n",
       "        [-1.46092474e-01],\n",
       "        [-1.21119785e+00],\n",
       "        [-7.97219947e-02],\n",
       "        [-9.51026306e-02],\n",
       "        [-1.69588149e-01],\n",
       "        [ 8.19771271e-03],\n",
       "        [ 1.86697304e-01],\n",
       "        [-1.35684147e-01],\n",
       "        [-2.26127356e-02],\n",
       "        [-1.81792960e-01],\n",
       "        [-5.73373437e-02],\n",
       "        [-2.17633456e-01],\n",
       "        [ 3.87388766e-02],\n",
       "        [ 3.25562917e-02],\n",
       "        [-1.40194982e-01],\n",
       "        [-2.28360891e-01],\n",
       "        [-1.94971770e-01],\n",
       "        [ 6.18230440e-02],\n",
       "        [ 1.82691216e-01],\n",
       "        [ 3.60605657e-01],\n",
       "        [ 1.03866853e-01],\n",
       "        [-1.76547989e-01],\n",
       "        [ 2.14121297e-01],\n",
       "        [ 1.89623274e-02],\n",
       "        [-1.15689926e-01],\n",
       "        [ 1.16442060e-02],\n",
       "        [ 2.88428999e-02],\n",
       "        [ 1.63539931e-01],\n",
       "        [-1.62274539e-01],\n",
       "        [ 9.26283598e-01],\n",
       "        [ 2.17906997e-01]], dtype=float32),\n",
       " array([-1.3875358], dtype=float32)]"
      ]
     },
     "execution_count": 4,
     "metadata": {},
     "output_type": "execute_result"
    }
   ],
   "source": [
    "model.get_weights()"
   ]
  },
  {
   "cell_type": "code",
   "execution_count": 5,
   "metadata": {},
   "outputs": [],
   "source": [
    "# Step 2: Helper Functions\n",
    "# Function to decode reviews\n",
    "def decode_review(encoded_review):\n",
    "    return ' '.join([reverse_word_index.get(i - 3, '?') for i in encoded_review])\n",
    "\n",
    "# Function to preprocess user input\n",
    "def preprocess_text(text):\n",
    "    words = text.lower().split()\n",
    "    encoded_review = [word_index.get(word, 2) + 3 for word in words]\n",
    "    padded_review = sequence.pad_sequences([encoded_review], maxlen=500)\n",
    "    return padded_review"
   ]
  },
  {
   "cell_type": "code",
   "execution_count": 6,
   "metadata": {},
   "outputs": [],
   "source": [
    "### Prediction  function\n",
    "\n",
    "def predict_sentiment(review):\n",
    "    preprocessed_input=preprocess_text(review)\n",
    "\n",
    "    prediction=model.predict(preprocessed_input)\n",
    "\n",
    "    sentiment = 'Positive' if prediction[0][0] > 0.5 else 'Negative'\n",
    "    \n",
    "    return sentiment, prediction[0][0]\n",
    "\n"
   ]
  },
  {
   "cell_type": "code",
   "execution_count": 7,
   "metadata": {},
   "outputs": [
    {
     "name": "stdout",
     "output_type": "stream",
     "text": [
      "\u001b[1m1/1\u001b[0m \u001b[32m━━━━━━━━━━━━━━━━━━━━\u001b[0m\u001b[37m\u001b[0m \u001b[1m1s\u001b[0m 718ms/step\n",
      "Review: This movie was fantastic! The acting was great and the plot was thrilling.\n",
      "Sentiment: Positive\n",
      "Prediction Score: 0.8983044624328613\n"
     ]
    }
   ],
   "source": [
    "# Step 4: User Input and Prediction\n",
    "# Example review for prediction\n",
    "example_review = \"This movie was fantastic! The acting was great and the plot was thrilling.\"\n",
    "\n",
    "sentiment,score=predict_sentiment(example_review)\n",
    "\n",
    "print(f'Review: {example_review}')\n",
    "print(f'Sentiment: {sentiment}')\n",
    "print(f'Prediction Score: {score}')"
   ]
  },
  {
   "cell_type": "code",
   "execution_count": null,
   "metadata": {},
   "outputs": [],
   "source": []
  }
 ],
 "metadata": {
  "kernelspec": {
   "display_name": "Python 3",
   "language": "python",
   "name": "python3"
  },
  "language_info": {
   "codemirror_mode": {
    "name": "ipython",
    "version": 3
   },
   "file_extension": ".py",
   "mimetype": "text/x-python",
   "name": "python",
   "nbconvert_exporter": "python",
   "pygments_lexer": "ipython3",
   "version": "3.12.0"
  }
 },
 "nbformat": 4,
 "nbformat_minor": 2
}
