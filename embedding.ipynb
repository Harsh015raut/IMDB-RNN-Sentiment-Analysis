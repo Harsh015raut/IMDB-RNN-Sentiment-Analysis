{
 "cells": [
  {
   "cell_type": "code",
   "execution_count": 1,
   "metadata": {},
   "outputs": [],
   "source": [
    "import tensorflow as tf \n",
    "from tensorflow.keras.preprocessing.text import one_hot"
   ]
  },
  {
   "cell_type": "code",
   "execution_count": 2,
   "metadata": {},
   "outputs": [],
   "source": [
    "### sentences\n",
    "sent=[  'the glass of milk',\n",
    "     'the glass of juice',\n",
    "     'the cup of tea',\n",
    "    'I am a good boy',\n",
    "     'I am a good developer',\n",
    "     'understand the meaning of words',\n",
    "     'your videos are good',]"
   ]
  },
  {
   "cell_type": "code",
   "execution_count": 3,
   "metadata": {},
   "outputs": [
    {
     "data": {
      "text/plain": [
       "['the glass of milk',\n",
       " 'the glass of juice',\n",
       " 'the cup of tea',\n",
       " 'I am a good boy',\n",
       " 'I am a good developer',\n",
       " 'understand the meaning of words',\n",
       " 'your videos are good']"
      ]
     },
     "execution_count": 3,
     "metadata": {},
     "output_type": "execute_result"
    }
   ],
   "source": [
    "sent"
   ]
  },
  {
   "cell_type": "code",
   "execution_count": 4,
   "metadata": {},
   "outputs": [],
   "source": [
    "# Define the vocabulary Size \n",
    "voc_size = 10000 "
   ]
  },
  {
   "cell_type": "code",
   "execution_count": 5,
   "metadata": {},
   "outputs": [
    {
     "data": {
      "text/plain": [
       "[[8428, 5065, 2391, 7833],\n",
       " [8428, 5065, 2391, 997],\n",
       " [8428, 4456, 2391, 242],\n",
       " [5722, 5501, 5831, 2197, 4985],\n",
       " [5722, 5501, 5831, 2197, 4416],\n",
       " [8093, 8428, 9673, 2391, 6085],\n",
       " [581, 7425, 7847, 2197]]"
      ]
     },
     "execution_count": 5,
     "metadata": {},
     "output_type": "execute_result"
    }
   ],
   "source": [
    "# One Hot Representation for Every Word \n",
    "one_hot_repr = [one_hot(words,voc_size) for words in sent]\n",
    "one_hot_repr\n"
   ]
  },
  {
   "cell_type": "code",
   "execution_count": 6,
   "metadata": {},
   "outputs": [],
   "source": [
    "## word Embedding Representation\n",
    "from tensorflow.keras.layers import Embedding\n",
    "#from tensorflow.keras.processing.sequence import pad_sequences\n",
    "from tensorflow.keras.utils import pad_sequences\n",
    "from tensorflow.keras.models import Sequential"
   ]
  },
  {
   "cell_type": "code",
   "execution_count": 7,
   "metadata": {},
   "outputs": [],
   "source": [
    "import numpy as np \n",
    "import pandas as pd "
   ]
  },
  {
   "cell_type": "code",
   "execution_count": 8,
   "metadata": {},
   "outputs": [
    {
     "name": "stdout",
     "output_type": "stream",
     "text": [
      "[[   0    0    0    0 8428 5065 2391 7833]\n",
      " [   0    0    0    0 8428 5065 2391  997]\n",
      " [   0    0    0    0 8428 4456 2391  242]\n",
      " [   0    0    0 5722 5501 5831 2197 4985]\n",
      " [   0    0    0 5722 5501 5831 2197 4416]\n",
      " [   0    0    0 8093 8428 9673 2391 6085]\n",
      " [   0    0    0    0  581 7425 7847 2197]]\n"
     ]
    }
   ],
   "source": [
    "sent_length = 8\n",
    "embedded_docs = pad_sequences(one_hot_repr,padding='pre',maxlen=sent_length) \n",
    "# Pad sequences helps us to match the length of all Sentences, this is will make them uniform\n",
    "# Prepadding means the sentences are made up of same lenght, zeroes are added before\n",
    "# Max lenght gives the uniform sentence lenght\n",
    "print(embedded_docs)"
   ]
  },
  {
   "cell_type": "code",
   "execution_count": 9,
   "metadata": {},
   "outputs": [],
   "source": [
    "# Feature Representation \n",
    "dim = 10   # We want 10 features in word embeddings"
   ]
  },
  {
   "cell_type": "code",
   "execution_count": 10,
   "metadata": {},
   "outputs": [
    {
     "name": "stderr",
     "output_type": "stream",
     "text": [
      "d:\\Data Science Krish Naik\\Sections\\myenv\\Lib\\site-packages\\keras\\src\\layers\\core\\embedding.py:90: UserWarning: Argument `input_length` is deprecated. Just remove it.\n",
      "  warnings.warn(\n"
     ]
    }
   ],
   "source": [
    "model = Sequential()\n",
    "model.add(Embedding(voc_size,dim,input_length=sent_length))\n",
    "# Model Embedding Layer added \n",
    "model.compile('adam','mse')"
   ]
  },
  {
   "cell_type": "code",
   "execution_count": 11,
   "metadata": {},
   "outputs": [
    {
     "data": {
      "text/html": [
       "<pre style=\"white-space:pre;overflow-x:auto;line-height:normal;font-family:Menlo,'DejaVu Sans Mono',consolas,'Courier New',monospace\"><span style=\"font-weight: bold\">Model: \"sequential\"</span>\n",
       "</pre>\n"
      ],
      "text/plain": [
       "\u001b[1mModel: \"sequential\"\u001b[0m\n"
      ]
     },
     "metadata": {},
     "output_type": "display_data"
    },
    {
     "data": {
      "text/html": [
       "<pre style=\"white-space:pre;overflow-x:auto;line-height:normal;font-family:Menlo,'DejaVu Sans Mono',consolas,'Courier New',monospace\">┏━━━━━━━━━━━━━━━━━━━━━━━━━━━━━━━━━┳━━━━━━━━━━━━━━━━━━━━━━━━┳━━━━━━━━━━━━━━━┓\n",
       "┃<span style=\"font-weight: bold\"> Layer (type)                    </span>┃<span style=\"font-weight: bold\"> Output Shape           </span>┃<span style=\"font-weight: bold\">       Param # </span>┃\n",
       "┡━━━━━━━━━━━━━━━━━━━━━━━━━━━━━━━━━╇━━━━━━━━━━━━━━━━━━━━━━━━╇━━━━━━━━━━━━━━━┩\n",
       "│ embedding (<span style=\"color: #0087ff; text-decoration-color: #0087ff\">Embedding</span>)           │ ?                      │   <span style=\"color: #00af00; text-decoration-color: #00af00\">0</span> (unbuilt) │\n",
       "└─────────────────────────────────┴────────────────────────┴───────────────┘\n",
       "</pre>\n"
      ],
      "text/plain": [
       "┏━━━━━━━━━━━━━━━━━━━━━━━━━━━━━━━━━┳━━━━━━━━━━━━━━━━━━━━━━━━┳━━━━━━━━━━━━━━━┓\n",
       "┃\u001b[1m \u001b[0m\u001b[1mLayer (type)                   \u001b[0m\u001b[1m \u001b[0m┃\u001b[1m \u001b[0m\u001b[1mOutput Shape          \u001b[0m\u001b[1m \u001b[0m┃\u001b[1m \u001b[0m\u001b[1m      Param #\u001b[0m\u001b[1m \u001b[0m┃\n",
       "┡━━━━━━━━━━━━━━━━━━━━━━━━━━━━━━━━━╇━━━━━━━━━━━━━━━━━━━━━━━━╇━━━━━━━━━━━━━━━┩\n",
       "│ embedding (\u001b[38;5;33mEmbedding\u001b[0m)           │ ?                      │   \u001b[38;5;34m0\u001b[0m (unbuilt) │\n",
       "└─────────────────────────────────┴────────────────────────┴───────────────┘\n"
      ]
     },
     "metadata": {},
     "output_type": "display_data"
    },
    {
     "data": {
      "text/html": [
       "<pre style=\"white-space:pre;overflow-x:auto;line-height:normal;font-family:Menlo,'DejaVu Sans Mono',consolas,'Courier New',monospace\"><span style=\"font-weight: bold\"> Total params: </span><span style=\"color: #00af00; text-decoration-color: #00af00\">0</span> (0.00 B)\n",
       "</pre>\n"
      ],
      "text/plain": [
       "\u001b[1m Total params: \u001b[0m\u001b[38;5;34m0\u001b[0m (0.00 B)\n"
      ]
     },
     "metadata": {},
     "output_type": "display_data"
    },
    {
     "data": {
      "text/html": [
       "<pre style=\"white-space:pre;overflow-x:auto;line-height:normal;font-family:Menlo,'DejaVu Sans Mono',consolas,'Courier New',monospace\"><span style=\"font-weight: bold\"> Trainable params: </span><span style=\"color: #00af00; text-decoration-color: #00af00\">0</span> (0.00 B)\n",
       "</pre>\n"
      ],
      "text/plain": [
       "\u001b[1m Trainable params: \u001b[0m\u001b[38;5;34m0\u001b[0m (0.00 B)\n"
      ]
     },
     "metadata": {},
     "output_type": "display_data"
    },
    {
     "data": {
      "text/html": [
       "<pre style=\"white-space:pre;overflow-x:auto;line-height:normal;font-family:Menlo,'DejaVu Sans Mono',consolas,'Courier New',monospace\"><span style=\"font-weight: bold\"> Non-trainable params: </span><span style=\"color: #00af00; text-decoration-color: #00af00\">0</span> (0.00 B)\n",
       "</pre>\n"
      ],
      "text/plain": [
       "\u001b[1m Non-trainable params: \u001b[0m\u001b[38;5;34m0\u001b[0m (0.00 B)\n"
      ]
     },
     "metadata": {},
     "output_type": "display_data"
    }
   ],
   "source": [
    "model.summary()"
   ]
  },
  {
   "cell_type": "code",
   "execution_count": 12,
   "metadata": {},
   "outputs": [
    {
     "name": "stdout",
     "output_type": "stream",
     "text": [
      "\u001b[1m1/1\u001b[0m \u001b[32m━━━━━━━━━━━━━━━━━━━━\u001b[0m\u001b[37m\u001b[0m \u001b[1m3s\u001b[0m 3s/step\n"
     ]
    },
    {
     "data": {
      "text/plain": [
       "array([[[ 4.7319643e-03,  1.0654844e-02,  2.7785603e-02, -6.1878935e-03,\n",
       "          5.8776736e-03, -3.7697803e-02, -1.3539016e-02,  2.3828592e-02,\n",
       "          4.3503452e-02, -2.8902387e-02],\n",
       "        [ 4.7319643e-03,  1.0654844e-02,  2.7785603e-02, -6.1878935e-03,\n",
       "          5.8776736e-03, -3.7697803e-02, -1.3539016e-02,  2.3828592e-02,\n",
       "          4.3503452e-02, -2.8902387e-02],\n",
       "        [ 4.7319643e-03,  1.0654844e-02,  2.7785603e-02, -6.1878935e-03,\n",
       "          5.8776736e-03, -3.7697803e-02, -1.3539016e-02,  2.3828592e-02,\n",
       "          4.3503452e-02, -2.8902387e-02],\n",
       "        [ 4.7319643e-03,  1.0654844e-02,  2.7785603e-02, -6.1878935e-03,\n",
       "          5.8776736e-03, -3.7697803e-02, -1.3539016e-02,  2.3828592e-02,\n",
       "          4.3503452e-02, -2.8902387e-02],\n",
       "        [ 3.0260336e-02,  4.9368571e-02,  1.4942732e-02,  1.1012625e-02,\n",
       "         -4.4532597e-02,  9.8488927e-03, -3.1681255e-02,  4.8745386e-03,\n",
       "         -8.4254146e-03, -2.0854652e-02],\n",
       "        [ 3.7532393e-02, -2.5182618e-02,  4.0904712e-02, -1.1810232e-02,\n",
       "         -4.0338419e-02, -3.5334766e-02,  2.1687895e-04,  4.0910434e-02,\n",
       "         -3.6194183e-02, -2.5083531e-02],\n",
       "        [-4.4557095e-02,  5.4414496e-03,  3.1674121e-02, -6.2224269e-03,\n",
       "          4.8267934e-02, -1.5522670e-02, -3.1880248e-02, -3.8791787e-02,\n",
       "          3.2986429e-02, -4.8728213e-03],\n",
       "        [-4.3321252e-02, -3.9261770e-02, -1.5403628e-02,  3.0185189e-02,\n",
       "          1.5056729e-03, -2.7341235e-02, -3.5252593e-02,  2.2735111e-03,\n",
       "          2.3450378e-02,  1.3908744e-03]],\n",
       "\n",
       "       [[ 4.7319643e-03,  1.0654844e-02,  2.7785603e-02, -6.1878935e-03,\n",
       "          5.8776736e-03, -3.7697803e-02, -1.3539016e-02,  2.3828592e-02,\n",
       "          4.3503452e-02, -2.8902387e-02],\n",
       "        [ 4.7319643e-03,  1.0654844e-02,  2.7785603e-02, -6.1878935e-03,\n",
       "          5.8776736e-03, -3.7697803e-02, -1.3539016e-02,  2.3828592e-02,\n",
       "          4.3503452e-02, -2.8902387e-02],\n",
       "        [ 4.7319643e-03,  1.0654844e-02,  2.7785603e-02, -6.1878935e-03,\n",
       "          5.8776736e-03, -3.7697803e-02, -1.3539016e-02,  2.3828592e-02,\n",
       "          4.3503452e-02, -2.8902387e-02],\n",
       "        [ 4.7319643e-03,  1.0654844e-02,  2.7785603e-02, -6.1878935e-03,\n",
       "          5.8776736e-03, -3.7697803e-02, -1.3539016e-02,  2.3828592e-02,\n",
       "          4.3503452e-02, -2.8902387e-02],\n",
       "        [ 3.0260336e-02,  4.9368571e-02,  1.4942732e-02,  1.1012625e-02,\n",
       "         -4.4532597e-02,  9.8488927e-03, -3.1681255e-02,  4.8745386e-03,\n",
       "         -8.4254146e-03, -2.0854652e-02],\n",
       "        [ 3.7532393e-02, -2.5182618e-02,  4.0904712e-02, -1.1810232e-02,\n",
       "         -4.0338419e-02, -3.5334766e-02,  2.1687895e-04,  4.0910434e-02,\n",
       "         -3.6194183e-02, -2.5083531e-02],\n",
       "        [-4.4557095e-02,  5.4414496e-03,  3.1674121e-02, -6.2224269e-03,\n",
       "          4.8267934e-02, -1.5522670e-02, -3.1880248e-02, -3.8791787e-02,\n",
       "          3.2986429e-02, -4.8728213e-03],\n",
       "        [ 1.3587955e-02,  4.4751931e-02,  2.3012292e-02,  2.2112790e-02,\n",
       "         -1.5597295e-02,  1.9754563e-02, -1.1475433e-02, -4.0617548e-02,\n",
       "         -3.3266202e-02,  4.4692148e-02]],\n",
       "\n",
       "       [[ 4.7319643e-03,  1.0654844e-02,  2.7785603e-02, -6.1878935e-03,\n",
       "          5.8776736e-03, -3.7697803e-02, -1.3539016e-02,  2.3828592e-02,\n",
       "          4.3503452e-02, -2.8902387e-02],\n",
       "        [ 4.7319643e-03,  1.0654844e-02,  2.7785603e-02, -6.1878935e-03,\n",
       "          5.8776736e-03, -3.7697803e-02, -1.3539016e-02,  2.3828592e-02,\n",
       "          4.3503452e-02, -2.8902387e-02],\n",
       "        [ 4.7319643e-03,  1.0654844e-02,  2.7785603e-02, -6.1878935e-03,\n",
       "          5.8776736e-03, -3.7697803e-02, -1.3539016e-02,  2.3828592e-02,\n",
       "          4.3503452e-02, -2.8902387e-02],\n",
       "        [ 4.7319643e-03,  1.0654844e-02,  2.7785603e-02, -6.1878935e-03,\n",
       "          5.8776736e-03, -3.7697803e-02, -1.3539016e-02,  2.3828592e-02,\n",
       "          4.3503452e-02, -2.8902387e-02],\n",
       "        [ 3.0260336e-02,  4.9368571e-02,  1.4942732e-02,  1.1012625e-02,\n",
       "         -4.4532597e-02,  9.8488927e-03, -3.1681255e-02,  4.8745386e-03,\n",
       "         -8.4254146e-03, -2.0854652e-02],\n",
       "        [ 1.3931181e-02, -2.0448029e-02, -3.3625916e-02, -2.4162663e-02,\n",
       "         -3.1514108e-02,  1.4222972e-03, -2.3238873e-02, -3.2353736e-02,\n",
       "         -1.3308011e-02, -5.7796612e-03],\n",
       "        [-4.4557095e-02,  5.4414496e-03,  3.1674121e-02, -6.2224269e-03,\n",
       "          4.8267934e-02, -1.5522670e-02, -3.1880248e-02, -3.8791787e-02,\n",
       "          3.2986429e-02, -4.8728213e-03],\n",
       "        [ 1.8468786e-02, -4.5040607e-02,  2.1364216e-02,  4.1843247e-02,\n",
       "         -3.8776956e-02,  1.1788260e-02,  3.7518132e-02, -3.2220140e-02,\n",
       "         -3.3281878e-02,  4.9464967e-02]],\n",
       "\n",
       "       [[ 4.7319643e-03,  1.0654844e-02,  2.7785603e-02, -6.1878935e-03,\n",
       "          5.8776736e-03, -3.7697803e-02, -1.3539016e-02,  2.3828592e-02,\n",
       "          4.3503452e-02, -2.8902387e-02],\n",
       "        [ 4.7319643e-03,  1.0654844e-02,  2.7785603e-02, -6.1878935e-03,\n",
       "          5.8776736e-03, -3.7697803e-02, -1.3539016e-02,  2.3828592e-02,\n",
       "          4.3503452e-02, -2.8902387e-02],\n",
       "        [ 4.7319643e-03,  1.0654844e-02,  2.7785603e-02, -6.1878935e-03,\n",
       "          5.8776736e-03, -3.7697803e-02, -1.3539016e-02,  2.3828592e-02,\n",
       "          4.3503452e-02, -2.8902387e-02],\n",
       "        [-4.6071004e-02,  4.0425766e-02, -9.6507892e-03, -2.1594048e-02,\n",
       "          1.8189438e-03,  4.6799410e-02,  4.0575135e-02, -4.4530880e-02,\n",
       "         -4.3691840e-02,  4.2159446e-03],\n",
       "        [-4.5462169e-02,  3.9587867e-02, -4.4693835e-03, -3.4646310e-02,\n",
       "          1.9632284e-02,  1.6694453e-02,  4.0466759e-02,  4.7944020e-02,\n",
       "         -3.9086152e-02, -2.1951426e-02],\n",
       "        [-2.4945283e-02, -1.6112842e-02, -1.4521562e-02, -2.8707970e-02,\n",
       "         -3.2646492e-02, -2.8841054e-02,  4.3082688e-02,  4.3229762e-02,\n",
       "          8.1576221e-03, -1.5142668e-02],\n",
       "        [ 3.6824431e-02,  2.1209572e-02, -1.9068157e-02,  8.3164573e-03,\n",
       "         -4.7748949e-02, -1.2929071e-02, -2.9623223e-02,  3.3235740e-02,\n",
       "         -6.9224834e-03,  3.4206398e-03],\n",
       "        [ 2.8180566e-02,  2.4421658e-02,  8.2561858e-03,  1.5565645e-02,\n",
       "          1.3391089e-02,  1.6383696e-02, -4.2381883e-03, -3.3296071e-02,\n",
       "         -2.6807083e-02, -3.3104707e-02]],\n",
       "\n",
       "       [[ 4.7319643e-03,  1.0654844e-02,  2.7785603e-02, -6.1878935e-03,\n",
       "          5.8776736e-03, -3.7697803e-02, -1.3539016e-02,  2.3828592e-02,\n",
       "          4.3503452e-02, -2.8902387e-02],\n",
       "        [ 4.7319643e-03,  1.0654844e-02,  2.7785603e-02, -6.1878935e-03,\n",
       "          5.8776736e-03, -3.7697803e-02, -1.3539016e-02,  2.3828592e-02,\n",
       "          4.3503452e-02, -2.8902387e-02],\n",
       "        [ 4.7319643e-03,  1.0654844e-02,  2.7785603e-02, -6.1878935e-03,\n",
       "          5.8776736e-03, -3.7697803e-02, -1.3539016e-02,  2.3828592e-02,\n",
       "          4.3503452e-02, -2.8902387e-02],\n",
       "        [-4.6071004e-02,  4.0425766e-02, -9.6507892e-03, -2.1594048e-02,\n",
       "          1.8189438e-03,  4.6799410e-02,  4.0575135e-02, -4.4530880e-02,\n",
       "         -4.3691840e-02,  4.2159446e-03],\n",
       "        [-4.5462169e-02,  3.9587867e-02, -4.4693835e-03, -3.4646310e-02,\n",
       "          1.9632284e-02,  1.6694453e-02,  4.0466759e-02,  4.7944020e-02,\n",
       "         -3.9086152e-02, -2.1951426e-02],\n",
       "        [-2.4945283e-02, -1.6112842e-02, -1.4521562e-02, -2.8707970e-02,\n",
       "         -3.2646492e-02, -2.8841054e-02,  4.3082688e-02,  4.3229762e-02,\n",
       "          8.1576221e-03, -1.5142668e-02],\n",
       "        [ 3.6824431e-02,  2.1209572e-02, -1.9068157e-02,  8.3164573e-03,\n",
       "         -4.7748949e-02, -1.2929071e-02, -2.9623223e-02,  3.3235740e-02,\n",
       "         -6.9224834e-03,  3.4206398e-03],\n",
       "        [-2.1655012e-02,  7.4903853e-03, -8.9444220e-05, -3.2109786e-02,\n",
       "         -5.6693181e-03, -3.4054078e-02, -4.3480661e-02,  3.1048421e-02,\n",
       "          1.9527320e-02, -3.0816484e-02]],\n",
       "\n",
       "       [[ 4.7319643e-03,  1.0654844e-02,  2.7785603e-02, -6.1878935e-03,\n",
       "          5.8776736e-03, -3.7697803e-02, -1.3539016e-02,  2.3828592e-02,\n",
       "          4.3503452e-02, -2.8902387e-02],\n",
       "        [ 4.7319643e-03,  1.0654844e-02,  2.7785603e-02, -6.1878935e-03,\n",
       "          5.8776736e-03, -3.7697803e-02, -1.3539016e-02,  2.3828592e-02,\n",
       "          4.3503452e-02, -2.8902387e-02],\n",
       "        [ 4.7319643e-03,  1.0654844e-02,  2.7785603e-02, -6.1878935e-03,\n",
       "          5.8776736e-03, -3.7697803e-02, -1.3539016e-02,  2.3828592e-02,\n",
       "          4.3503452e-02, -2.8902387e-02],\n",
       "        [-3.4163751e-02,  5.6858771e-03,  5.2183643e-03,  1.7703328e-02,\n",
       "         -2.3406768e-02,  3.0520186e-03, -7.4138865e-03, -1.0822784e-02,\n",
       "         -4.7497761e-02,  4.4455256e-02],\n",
       "        [ 3.0260336e-02,  4.9368571e-02,  1.4942732e-02,  1.1012625e-02,\n",
       "         -4.4532597e-02,  9.8488927e-03, -3.1681255e-02,  4.8745386e-03,\n",
       "         -8.4254146e-03, -2.0854652e-02],\n",
       "        [ 4.7205579e-02,  1.1777498e-02,  1.8160343e-03, -1.8342994e-02,\n",
       "         -6.6125505e-03, -4.2911600e-02,  2.2643153e-02, -3.3235241e-02,\n",
       "          3.0621681e-02, -4.9455989e-02],\n",
       "        [-4.4557095e-02,  5.4414496e-03,  3.1674121e-02, -6.2224269e-03,\n",
       "          4.8267934e-02, -1.5522670e-02, -3.1880248e-02, -3.8791787e-02,\n",
       "          3.2986429e-02, -4.8728213e-03],\n",
       "        [-6.5788627e-03,  3.2551233e-02,  4.8540164e-02, -4.3269541e-02,\n",
       "          3.5681430e-02,  1.5419189e-02,  1.9784641e-02,  1.6547073e-02,\n",
       "          4.4908319e-02,  4.1073430e-02]],\n",
       "\n",
       "       [[ 4.7319643e-03,  1.0654844e-02,  2.7785603e-02, -6.1878935e-03,\n",
       "          5.8776736e-03, -3.7697803e-02, -1.3539016e-02,  2.3828592e-02,\n",
       "          4.3503452e-02, -2.8902387e-02],\n",
       "        [ 4.7319643e-03,  1.0654844e-02,  2.7785603e-02, -6.1878935e-03,\n",
       "          5.8776736e-03, -3.7697803e-02, -1.3539016e-02,  2.3828592e-02,\n",
       "          4.3503452e-02, -2.8902387e-02],\n",
       "        [ 4.7319643e-03,  1.0654844e-02,  2.7785603e-02, -6.1878935e-03,\n",
       "          5.8776736e-03, -3.7697803e-02, -1.3539016e-02,  2.3828592e-02,\n",
       "          4.3503452e-02, -2.8902387e-02],\n",
       "        [ 4.7319643e-03,  1.0654844e-02,  2.7785603e-02, -6.1878935e-03,\n",
       "          5.8776736e-03, -3.7697803e-02, -1.3539016e-02,  2.3828592e-02,\n",
       "          4.3503452e-02, -2.8902387e-02],\n",
       "        [ 3.4169506e-02, -2.9539073e-02,  4.0234353e-02, -2.3625553e-02,\n",
       "         -4.0895864e-04,  2.3334730e-02, -4.7919225e-02, -4.8911572e-04,\n",
       "          2.1501336e-02, -2.9850138e-02],\n",
       "        [-3.7518322e-02,  2.7093161e-02, -2.3023332e-02,  4.6394456e-02,\n",
       "          6.4352751e-03,  8.4665306e-03, -1.9109905e-02,  5.9699900e-03,\n",
       "         -3.8479678e-03, -3.2525972e-02],\n",
       "        [ 2.6614849e-02, -3.1827439e-02,  6.4261332e-03, -2.9006708e-02,\n",
       "          4.9169350e-02,  4.1449443e-03, -1.7809756e-03,  1.5641961e-02,\n",
       "         -2.9128242e-02, -2.6686383e-02],\n",
       "        [ 3.6824431e-02,  2.1209572e-02, -1.9068157e-02,  8.3164573e-03,\n",
       "         -4.7748949e-02, -1.2929071e-02, -2.9623223e-02,  3.3235740e-02,\n",
       "         -6.9224834e-03,  3.4206398e-03]]], dtype=float32)"
      ]
     },
     "execution_count": 12,
     "metadata": {},
     "output_type": "execute_result"
    }
   ],
   "source": [
    "model.predict(embedded_docs)"
   ]
  },
  {
   "cell_type": "code",
   "execution_count": 13,
   "metadata": {},
   "outputs": [
    {
     "data": {
      "text/plain": [
       "array([   0,    0,    0,    0, 8428, 5065, 2391, 7833])"
      ]
     },
     "execution_count": 13,
     "metadata": {},
     "output_type": "execute_result"
    }
   ],
   "source": [
    "embedded_docs[0]"
   ]
  },
  {
   "cell_type": "code",
   "execution_count": 15,
   "metadata": {},
   "outputs": [
    {
     "ename": "TypeError",
     "evalue": "'method' object is not subscriptable",
     "output_type": "error",
     "traceback": [
      "\u001b[1;31m---------------------------------------------------------------------------\u001b[0m",
      "\u001b[1;31mTypeError\u001b[0m                                 Traceback (most recent call last)",
      "Cell \u001b[1;32mIn[15], line 1\u001b[0m\n\u001b[1;32m----> 1\u001b[0m \u001b[43mmodel\u001b[49m\u001b[38;5;241;43m.\u001b[39;49m\u001b[43mpredict\u001b[49m\u001b[43m[\u001b[49m\u001b[43membedded_docs\u001b[49m\u001b[43m[\u001b[49m\u001b[38;5;241;43m0\u001b[39;49m\u001b[43m]\u001b[49m\u001b[43m]\u001b[49m\n",
      "\u001b[1;31mTypeError\u001b[0m: 'method' object is not subscriptable"
     ]
    }
   ],
   "source": [
    "model.predict[embedded_docs[0]]"
   ]
  },
  {
   "cell_type": "code",
   "execution_count": null,
   "metadata": {},
   "outputs": [],
   "source": []
  }
 ],
 "metadata": {
  "kernelspec": {
   "display_name": "Python 3",
   "language": "python",
   "name": "python3"
  },
  "language_info": {
   "codemirror_mode": {
    "name": "ipython",
    "version": 3
   },
   "file_extension": ".py",
   "mimetype": "text/x-python",
   "name": "python",
   "nbconvert_exporter": "python",
   "pygments_lexer": "ipython3",
   "version": "3.12.0"
  }
 },
 "nbformat": 4,
 "nbformat_minor": 2
}
